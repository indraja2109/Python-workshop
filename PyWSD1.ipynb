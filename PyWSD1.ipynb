{
  "nbformat": 4,
  "nbformat_minor": 0,
  "metadata": {
    "colab": {
      "name": "PyWSD1.ipynb",
      "provenance": [],
      "collapsed_sections": [],
      "authorship_tag": "ABX9TyN6hN11l6erJFiXPTnI5OGo",
      "include_colab_link": true
    },
    "kernelspec": {
      "name": "python3",
      "display_name": "Python 3"
    }
  },
  "cells": [
    {
      "cell_type": "markdown",
      "metadata": {
        "id": "view-in-github",
        "colab_type": "text"
      },
      "source": [
        "<a href=\"https://colab.research.google.com/github/indraja2109/Python-workshop/blob/main/PyWSD1.ipynb\" target=\"_parent\"><img src=\"https://colab.research.google.com/assets/colab-badge.svg\" alt=\"Open In Colab\"/></a>"
      ]
    },
    {
      "cell_type": "code",
      "metadata": {
        "colab": {
          "base_uri": "https://localhost:8080/"
        },
        "id": "5km-YyiN0V9f",
        "outputId": "5554afa1-1c87-42b3-c9a6-62a884bfce11"
      },
      "source": [
        "print(\"I'm attending Python workshop\")"
      ],
      "execution_count": 2,
      "outputs": [
        {
          "output_type": "stream",
          "text": [
            "I'm attending Python workshop\n"
          ],
          "name": "stdout"
        }
      ]
    },
    {
      "cell_type": "code",
      "metadata": {
        "colab": {
          "base_uri": "https://localhost:8080/"
        },
        "id": "Or9kBD7W16ci",
        "outputId": "891c7283-1ca2-48b1-dd95-dead92d41e0f"
      },
      "source": [
        "n = [1, 2, 3, 4, 5]\n",
        "for x in n:\n",
        "  print(x)"
      ],
      "execution_count": 4,
      "outputs": [
        {
          "output_type": "stream",
          "text": [
            "1\n",
            "2\n",
            "3\n",
            "4\n",
            "5\n"
          ],
          "name": "stdout"
        }
      ]
    },
    {
      "cell_type": "code",
      "metadata": {
        "colab": {
          "base_uri": "https://localhost:8080/"
        },
        "id": "VMh1pr6e289W",
        "outputId": "ad4fd3ac-f66d-4852-af70-8d5629991533"
      },
      "source": [
        "tup = (\"oats\", \"muesli\", \"peanut butter\")\n",
        "print(tup)\n",
        "for t in tup:\n",
        "  print(t)\n"
      ],
      "execution_count": 8,
      "outputs": [
        {
          "output_type": "stream",
          "text": [
            "('oats', 'muesli', 'peanut butter')\n",
            "oats\n",
            "muesli\n",
            "peanut butter\n"
          ],
          "name": "stdout"
        }
      ]
    },
    {
      "cell_type": "code",
      "metadata": {
        "colab": {
          "base_uri": "https://localhost:8080/"
        },
        "id": "5OK2xXOF4UlF",
        "outputId": "ccc8485d-bea8-4780-90b2-417d32cd1d45"
      },
      "source": [
        "n = input(\"Enter a number: \")\n",
        "print(\"All natural numbers up to \", n, \":\")\n",
        "x = 1\n",
        "while x<=int(n):\n",
        "  print(x)\n",
        "  x+=1\n",
        "  "
      ],
      "execution_count": 19,
      "outputs": [
        {
          "output_type": "stream",
          "text": [
            "Enter a number: 10\n",
            "All natural numbers up to  10 :\n",
            "1\n",
            "2\n",
            "3\n",
            "4\n",
            "5\n",
            "6\n",
            "7\n",
            "8\n",
            "9\n",
            "10\n"
          ],
          "name": "stdout"
        }
      ]
    },
    {
      "cell_type": "code",
      "metadata": {
        "colab": {
          "base_uri": "https://localhost:8080/"
        },
        "id": "_pHvG6Gn597n",
        "outputId": "89adc056-68bf-4617-9749-696cfd907c95"
      },
      "source": [
        "x = 5\n",
        "y = \"John\"\n",
        "x = y\n",
        "print(\"Hello \", x, \"!!\")"
      ],
      "execution_count": 23,
      "outputs": [
        {
          "output_type": "stream",
          "text": [
            "Hello  John !!\n"
          ],
          "name": "stdout"
        }
      ]
    },
    {
      "cell_type": "code",
      "metadata": {
        "colab": {
          "base_uri": "https://localhost:8080/"
        },
        "id": "AtkOwUXi6AOC",
        "outputId": "2d63b4ed-19cd-413d-e891-a8d2c9badbf0"
      },
      "source": [
        " x=float(.222)\n",
        " print(x)"
      ],
      "execution_count": 26,
      "outputs": [
        {
          "output_type": "stream",
          "text": [
            "0.222\n"
          ],
          "name": "stdout"
        }
      ]
    },
    {
      "cell_type": "code",
      "metadata": {
        "colab": {
          "base_uri": "https://localhost:8080/"
        },
        "id": "3AV2yAIy9KKh",
        "outputId": "43559a8e-6e5b-4a75-9c16-61c87b577e5d"
      },
      "source": [
        "x, y, z = 21, \"zara\", 3.14\n",
        "print(x)\n",
        "print(y)\n",
        "print(z)"
      ],
      "execution_count": 28,
      "outputs": [
        {
          "output_type": "stream",
          "text": [
            "21\n",
            "zara\n",
            "3.14\n"
          ],
          "name": "stdout"
        }
      ]
    },
    {
      "cell_type": "code",
      "metadata": {
        "colab": {
          "base_uri": "https://localhost:8080/"
        },
        "id": "TsmZ_1UT_89P",
        "outputId": "79661406-f073-476f-902b-52d79b8ad0c2"
      },
      "source": [
        "x = 5\n",
        "def fun():\n",
        "  y = x+1\n",
        "  print(y)\n",
        "\n",
        "fun()"
      ],
      "execution_count": 35,
      "outputs": [
        {
          "output_type": "stream",
          "text": [
            "6\n"
          ],
          "name": "stdout"
        }
      ]
    },
    {
      "cell_type": "code",
      "metadata": {
        "colab": {
          "base_uri": "https://localhost:8080/"
        },
        "id": "gOEQlQU_AWxj",
        "outputId": "4f401ea0-eb48-40b8-b466-0f96ad4752c4"
      },
      "source": [
        "fDic = {\n",
        "    \"Name\" : \"A\", \n",
        "    \"age\" : 51\n",
        "}\n",
        "x = fDic.values()\n",
        "fDic.update({\"age\" : 21})\n",
        "def pDic():\n",
        "  print(fDic)\n",
        "\n",
        "pDic()\n",
        "print(fDic.values())\n",
        "\n",
        "fDic[\"nationality\"] = \"Indian\"\n",
        "\n",
        "pDic()\n",
        "\n",
        "fDic.pop(\"nationality\")\n",
        "\n",
        "pDic()\n",
        "\n",
        "fDic[\"Subject\"] = \"English\"\n",
        "fDic[\"Semester\"] = 3\n",
        "\n",
        "pDic()\n",
        "\n",
        "fDic.popitem()\n",
        "pDic()\n",
        "\n",
        "#for i, j in fDic, x:\n",
        " # print(i , \": \" , j )"
      ],
      "execution_count": 52,
      "outputs": [
        {
          "output_type": "stream",
          "text": [
            "{'Name': 'A', 'age': 21}\n",
            "dict_values(['A', 21])\n",
            "{'Name': 'A', 'age': 21, 'nationality': 'Indian'}\n",
            "{'Name': 'A', 'age': 21}\n",
            "{'Name': 'A', 'age': 21, 'Subject': 'English', 'Semester': 3}\n",
            "{'Name': 'A', 'age': 21, 'Subject': 'English'}\n"
          ],
          "name": "stdout"
        }
      ]
    },
    {
      "cell_type": "markdown",
      "metadata": {
        "id": "-d3AtkdVBc6S"
      },
      "source": [
        ""
      ]
    },
    {
      "cell_type": "markdown",
      "metadata": {
        "id": "gvm1LRwXBcBz"
      },
      "source": [
        "#Exercise 1"
      ]
    },
    {
      "cell_type": "code",
      "metadata": {
        "colab": {
          "base_uri": "https://localhost:8080/"
        },
        "id": "vcgfKmB7A5YK",
        "outputId": "650f352d-ea21-41c3-d1ad-ac3a08e89505"
      },
      "source": [
        "carname = \"Volvo\"\n",
        "print(carname)"
      ],
      "execution_count": 40,
      "outputs": [
        {
          "output_type": "stream",
          "text": [
            "Volvo\n"
          ],
          "name": "stdout"
        }
      ]
    },
    {
      "cell_type": "markdown",
      "metadata": {
        "id": "a7T-YSCiCHUf"
      },
      "source": [
        "#Exercise 2\n"
      ]
    },
    {
      "cell_type": "code",
      "metadata": {
        "colab": {
          "base_uri": "https://localhost:8080/"
        },
        "id": "aJJkpJWOBBxV",
        "outputId": "f92f0152-0f89-4a04-93c9-39a3c9bf63fa"
      },
      "source": [
        "x = 50\n",
        "print(x)"
      ],
      "execution_count": 41,
      "outputs": [
        {
          "output_type": "stream",
          "text": [
            "50\n"
          ],
          "name": "stdout"
        }
      ]
    },
    {
      "cell_type": "markdown",
      "metadata": {
        "id": "pVGTd_EHCf2a"
      },
      "source": [
        "#Exercise 3\n"
      ]
    },
    {
      "cell_type": "code",
      "metadata": {
        "colab": {
          "base_uri": "https://localhost:8080/"
        },
        "id": "i3sOmsVBCVJX",
        "outputId": "2bd32a1c-ed8c-430b-af72-f4524c68b67a"
      },
      "source": [
        "x, y = 5, 10\n",
        "print(x+y)"
      ],
      "execution_count": 42,
      "outputs": [
        {
          "output_type": "stream",
          "text": [
            "15\n"
          ],
          "name": "stdout"
        }
      ]
    },
    {
      "cell_type": "markdown",
      "metadata": {
        "id": "cpsou6tkCmwm"
      },
      "source": [
        "#Exercise 4"
      ]
    },
    {
      "cell_type": "code",
      "metadata": {
        "colab": {
          "base_uri": "https://localhost:8080/"
        },
        "id": "VB6JOPH3CqVO",
        "outputId": "5ad00f27-ded2-4fee-c881-56a8bec0279a"
      },
      "source": [
        "x, y = 11, 17\n",
        "z = x+y\n",
        "print(z)"
      ],
      "execution_count": 49,
      "outputs": [
        {
          "output_type": "stream",
          "text": [
            "28\n"
          ],
          "name": "stdout"
        }
      ]
    },
    {
      "cell_type": "code",
      "metadata": {
        "colab": {
          "base_uri": "https://localhost:8080/"
        },
        "id": "yDMspGV9PzCn",
        "outputId": "d61dfe07-1552-41ad-87b8-8992010aa1ec"
      },
      "source": [
        "x, y, z = 21, \"zara\", 3.14\n",
        "print(type(x))\n",
        "print(type(y))\n",
        "print(type(z))"
      ],
      "execution_count": 53,
      "outputs": [
        {
          "output_type": "stream",
          "text": [
            "<class 'int'>\n",
            "<class 'str'>\n",
            "<class 'float'>\n"
          ],
          "name": "stdout"
        }
      ]
    },
    {
      "cell_type": "code",
      "metadata": {
        "id": "su-GxsGKQeT8"
      },
      "source": [
        ""
      ],
      "execution_count": null,
      "outputs": []
    },
    {
      "cell_type": "code",
      "metadata": {
        "colab": {
          "base_uri": "https://localhost:8080/"
        },
        "id": "tJv8wVjPQHtR",
        "outputId": "15c223a2-07eb-4c8b-e744-60b0896f618c"
      },
      "source": [
        "x1 = \"Hello World\"\n",
        "x2 = 10\n",
        "x3 = 10.1 \n",
        "x4 = [\"apple\", \"banana\", \"cherry\"]\n",
        "x5 = (\"apple\", \"banana\", \"cherry\") #tuple\n",
        "x6 = range(6)\n",
        "x7 = { \"name\" : \"Johnwick\", \"age\" : 36} #dictionary\n",
        "x8 = {\"apple\", \"banana\", \"cherry\"} #set\n",
        "x9 = True #boolean\n",
        "x10 = 10-5j\n",
        "x11 = int(x3)\n",
        "\n",
        "print(type(x1))\n",
        "print(type(x2))\n",
        "print(type(x3))\n",
        "print(type(x4))\n",
        "print(type(x5))\n",
        "print(type(x6))\n",
        "print(type(x7))\n",
        "print(type(x8))\n",
        "print(type(x9))\n",
        "print(type(x10))\n",
        "print(x11)\n",
        "\n"
      ],
      "execution_count": 59,
      "outputs": [
        {
          "output_type": "stream",
          "text": [
            "<class 'str'>\n",
            "<class 'int'>\n",
            "<class 'float'>\n",
            "<class 'list'>\n",
            "<class 'tuple'>\n",
            "<class 'range'>\n",
            "<class 'dict'>\n",
            "<class 'set'>\n",
            "<class 'bool'>\n",
            "<class 'complex'>\n",
            "10\n"
          ],
          "name": "stdout"
        }
      ]
    },
    {
      "cell_type": "code",
      "metadata": {
        "colab": {
          "base_uri": "https://localhost:8080/"
        },
        "id": "-7CrmFpuatnm",
        "outputId": "1ac538a8-3e4a-4567-f9f6-fe681dca1dcf"
      },
      "source": [
        "x = str(input())\n",
        "y = str(input())\n",
        "\n",
        "print(x+y)"
      ],
      "execution_count": 60,
      "outputs": [
        {
          "output_type": "stream",
          "text": [
            "5\n",
            "5\n",
            "55\n"
          ],
          "name": "stdout"
        }
      ]
    },
    {
      "cell_type": "code",
      "metadata": {
        "colab": {
          "base_uri": "https://localhost:8080/"
        },
        "id": "LgOfnwPQb7vm",
        "outputId": "d9c35a73-d4c2-4859-9be1-992286864f93"
      },
      "source": [
        "x = int(input())\n",
        "y = int(input())\n",
        "\n",
        "print( x*10+y)"
      ],
      "execution_count": 61,
      "outputs": [
        {
          "output_type": "stream",
          "text": [
            "2\n",
            "3\n",
            "23\n"
          ],
          "name": "stdout"
        }
      ]
    },
    {
      "cell_type": "code",
      "metadata": {
        "colab": {
          "base_uri": "https://localhost:8080/"
        },
        "id": "sesr5PcudwUV",
        "outputId": "bca897a7-2139-4690-fd1a-4f75001c8060"
      },
      "source": [
        "name = \"India\"\n",
        "print(name)\n",
        "print(type(name))\n",
        "print(name[0])\n",
        "print(len(name))"
      ],
      "execution_count": 65,
      "outputs": [
        {
          "output_type": "stream",
          "text": [
            "India\n",
            "<class 'str'>\n",
            "I\n",
            "5\n"
          ],
          "name": "stdout"
        }
      ]
    },
    {
      "cell_type": "code",
      "metadata": {
        "colab": {
          "base_uri": "https://localhost:8080/"
        },
        "id": "ytmKkteHgatV",
        "outputId": "0236b0d0-a130-4745-d960-bf450dedd089"
      },
      "source": [
        "a = \"Hello \"\n",
        "b = \"World\"\n",
        "print(a+b)"
      ],
      "execution_count": 67,
      "outputs": [
        {
          "output_type": "stream",
          "text": [
            "Hello World\n"
          ],
          "name": "stdout"
        }
      ]
    },
    {
      "cell_type": "code",
      "metadata": {
        "colab": {
          "base_uri": "https://localhost:8080/"
        },
        "id": "gcCq-WjC2HsY",
        "outputId": "0c502def-d28a-4d87-b3c8-7553bd591192"
      },
      "source": [
        "s = input()\n",
        "print(\"length = \", len(s))\n",
        "print(s[:-1])\n",
        "print(s.upper())\n",
        "print(s.format()+\" college\")\n",
        "print(s+\" college\")\n",
        "print(s.isdigit())"
      ],
      "execution_count": 74,
      "outputs": [
        {
          "output_type": "stream",
          "text": [
            "alvas\n",
            "length =  5\n",
            "alva\n",
            "ALVAS\n",
            "alvas college\n",
            "alvas college\n",
            "False\n"
          ],
          "name": "stdout"
        }
      ]
    },
    {
      "cell_type": "code",
      "metadata": {
        "colab": {
          "base_uri": "https://localhost:8080/"
        },
        "id": "otiI-C3260g0",
        "outputId": "9fc41058-5824-4015-a411-9da342bd2547"
      },
      "source": [
        "x, y = 10, 5\n",
        "\n",
        "print(x+y)\n",
        "print(x-y)\n",
        "print(x*y)\n",
        "print(x/y)\n",
        "print(x%y)\n",
        "\n",
        "print(x == y)\n",
        "print(x>y)\n",
        "print(x<y)\n",
        "print(x!=y)"
      ],
      "execution_count": 77,
      "outputs": [
        {
          "output_type": "stream",
          "text": [
            "15\n",
            "5\n",
            "50\n",
            "2.0\n",
            "0\n",
            "False\n",
            "True\n",
            "False\n",
            "True\n"
          ],
          "name": "stdout"
        }
      ]
    },
    {
      "cell_type": "markdown",
      "metadata": {
        "id": "mcJeD3d0-QW5"
      },
      "source": [
        "#Assignment"
      ]
    },
    {
      "cell_type": "code",
      "metadata": {
        "colab": {
          "base_uri": "https://localhost:8080/"
        },
        "id": "o_g2u5lw8IMt",
        "outputId": "d16a25ca-24d1-4bab-e8d1-71a9b8de02b0"
      },
      "source": [
        "x = int(input(\"Enter the value of x: \"))\n",
        "y = int(input(\"Enter the value of y: \"))\n",
        "\n",
        "print(x+y)\n",
        "print(x-y)\n",
        "print(x*y)\n",
        "print(x/y)\n",
        "print(x%y)\n"
      ],
      "execution_count": 82,
      "outputs": [
        {
          "output_type": "stream",
          "text": [
            "Enter the value of x: 20\n",
            "Enter the value of y: 2\n",
            "22\n",
            "18\n",
            "40\n",
            "10.0\n",
            "0\n"
          ],
          "name": "stdout"
        }
      ]
    }
  ]
}